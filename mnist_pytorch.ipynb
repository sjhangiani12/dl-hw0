{
  "nbformat": 4,
  "nbformat_minor": 0,
  "metadata": {
    "colab": {
      "name": "mnist_pytorch.ipynb",
      "provenance": [],
      "collapsed_sections": []
    },
    "kernelspec": {
      "name": "python3",
      "display_name": "Python 3"
    },
    "accelerator": "GPU",
    "widgets": {
      "application/vnd.jupyter.widget-state+json": {
        "9f37632c58fc4f2fa4f6e220fff3c3e3": {
          "model_module": "@jupyter-widgets/controls",
          "model_name": "HBoxModel",
          "state": {
            "_view_name": "HBoxView",
            "_dom_classes": [],
            "_model_name": "HBoxModel",
            "_view_module": "@jupyter-widgets/controls",
            "_model_module_version": "1.5.0",
            "_view_count": null,
            "_view_module_version": "1.5.0",
            "box_style": "",
            "layout": "IPY_MODEL_d0ff29c696714710bf5498c75e95db0b",
            "_model_module": "@jupyter-widgets/controls",
            "children": [
              "IPY_MODEL_5c2e2f9a645349fabd7f98f84dd16e11",
              "IPY_MODEL_62a51a1dcef84de99c60c384d130453d"
            ]
          }
        },
        "d0ff29c696714710bf5498c75e95db0b": {
          "model_module": "@jupyter-widgets/base",
          "model_name": "LayoutModel",
          "state": {
            "_view_name": "LayoutView",
            "grid_template_rows": null,
            "right": null,
            "justify_content": null,
            "_view_module": "@jupyter-widgets/base",
            "overflow": null,
            "_model_module_version": "1.2.0",
            "_view_count": null,
            "flex_flow": null,
            "width": null,
            "min_width": null,
            "border": null,
            "align_items": null,
            "bottom": null,
            "_model_module": "@jupyter-widgets/base",
            "top": null,
            "grid_column": null,
            "overflow_y": null,
            "overflow_x": null,
            "grid_auto_flow": null,
            "grid_area": null,
            "grid_template_columns": null,
            "flex": null,
            "_model_name": "LayoutModel",
            "justify_items": null,
            "grid_row": null,
            "max_height": null,
            "align_content": null,
            "visibility": null,
            "align_self": null,
            "height": null,
            "min_height": null,
            "padding": null,
            "grid_auto_rows": null,
            "grid_gap": null,
            "max_width": null,
            "order": null,
            "_view_module_version": "1.2.0",
            "grid_template_areas": null,
            "object_position": null,
            "object_fit": null,
            "grid_auto_columns": null,
            "margin": null,
            "display": null,
            "left": null
          }
        },
        "5c2e2f9a645349fabd7f98f84dd16e11": {
          "model_module": "@jupyter-widgets/controls",
          "model_name": "FloatProgressModel",
          "state": {
            "_view_name": "ProgressView",
            "style": "IPY_MODEL_b4ec250e6539433aa5e860ab411b6ec3",
            "_dom_classes": [],
            "description": "",
            "_model_name": "FloatProgressModel",
            "bar_style": "success",
            "max": 1,
            "_view_module": "@jupyter-widgets/controls",
            "_model_module_version": "1.5.0",
            "value": 1,
            "_view_count": null,
            "_view_module_version": "1.5.0",
            "orientation": "horizontal",
            "min": 0,
            "description_tooltip": null,
            "_model_module": "@jupyter-widgets/controls",
            "layout": "IPY_MODEL_adf5a24e843145cab5a4558221b56e21"
          }
        },
        "62a51a1dcef84de99c60c384d130453d": {
          "model_module": "@jupyter-widgets/controls",
          "model_name": "HTMLModel",
          "state": {
            "_view_name": "HTMLView",
            "style": "IPY_MODEL_db934b1869ac4756923116bc251f541a",
            "_dom_classes": [],
            "description": "",
            "_model_name": "HTMLModel",
            "placeholder": "​",
            "_view_module": "@jupyter-widgets/controls",
            "_model_module_version": "1.5.0",
            "value": " 9920512/? [00:03&lt;00:00, 3171254.48it/s]",
            "_view_count": null,
            "_view_module_version": "1.5.0",
            "description_tooltip": null,
            "_model_module": "@jupyter-widgets/controls",
            "layout": "IPY_MODEL_2900a0f648954c69b1ef8b17ed532a0a"
          }
        },
        "b4ec250e6539433aa5e860ab411b6ec3": {
          "model_module": "@jupyter-widgets/controls",
          "model_name": "ProgressStyleModel",
          "state": {
            "_view_name": "StyleView",
            "_model_name": "ProgressStyleModel",
            "description_width": "initial",
            "_view_module": "@jupyter-widgets/base",
            "_model_module_version": "1.5.0",
            "_view_count": null,
            "_view_module_version": "1.2.0",
            "bar_color": null,
            "_model_module": "@jupyter-widgets/controls"
          }
        },
        "adf5a24e843145cab5a4558221b56e21": {
          "model_module": "@jupyter-widgets/base",
          "model_name": "LayoutModel",
          "state": {
            "_view_name": "LayoutView",
            "grid_template_rows": null,
            "right": null,
            "justify_content": null,
            "_view_module": "@jupyter-widgets/base",
            "overflow": null,
            "_model_module_version": "1.2.0",
            "_view_count": null,
            "flex_flow": null,
            "width": null,
            "min_width": null,
            "border": null,
            "align_items": null,
            "bottom": null,
            "_model_module": "@jupyter-widgets/base",
            "top": null,
            "grid_column": null,
            "overflow_y": null,
            "overflow_x": null,
            "grid_auto_flow": null,
            "grid_area": null,
            "grid_template_columns": null,
            "flex": null,
            "_model_name": "LayoutModel",
            "justify_items": null,
            "grid_row": null,
            "max_height": null,
            "align_content": null,
            "visibility": null,
            "align_self": null,
            "height": null,
            "min_height": null,
            "padding": null,
            "grid_auto_rows": null,
            "grid_gap": null,
            "max_width": null,
            "order": null,
            "_view_module_version": "1.2.0",
            "grid_template_areas": null,
            "object_position": null,
            "object_fit": null,
            "grid_auto_columns": null,
            "margin": null,
            "display": null,
            "left": null
          }
        },
        "db934b1869ac4756923116bc251f541a": {
          "model_module": "@jupyter-widgets/controls",
          "model_name": "DescriptionStyleModel",
          "state": {
            "_view_name": "StyleView",
            "_model_name": "DescriptionStyleModel",
            "description_width": "",
            "_view_module": "@jupyter-widgets/base",
            "_model_module_version": "1.5.0",
            "_view_count": null,
            "_view_module_version": "1.2.0",
            "_model_module": "@jupyter-widgets/controls"
          }
        },
        "2900a0f648954c69b1ef8b17ed532a0a": {
          "model_module": "@jupyter-widgets/base",
          "model_name": "LayoutModel",
          "state": {
            "_view_name": "LayoutView",
            "grid_template_rows": null,
            "right": null,
            "justify_content": null,
            "_view_module": "@jupyter-widgets/base",
            "overflow": null,
            "_model_module_version": "1.2.0",
            "_view_count": null,
            "flex_flow": null,
            "width": null,
            "min_width": null,
            "border": null,
            "align_items": null,
            "bottom": null,
            "_model_module": "@jupyter-widgets/base",
            "top": null,
            "grid_column": null,
            "overflow_y": null,
            "overflow_x": null,
            "grid_auto_flow": null,
            "grid_area": null,
            "grid_template_columns": null,
            "flex": null,
            "_model_name": "LayoutModel",
            "justify_items": null,
            "grid_row": null,
            "max_height": null,
            "align_content": null,
            "visibility": null,
            "align_self": null,
            "height": null,
            "min_height": null,
            "padding": null,
            "grid_auto_rows": null,
            "grid_gap": null,
            "max_width": null,
            "order": null,
            "_view_module_version": "1.2.0",
            "grid_template_areas": null,
            "object_position": null,
            "object_fit": null,
            "grid_auto_columns": null,
            "margin": null,
            "display": null,
            "left": null
          }
        },
        "82130324770c48f3be01c227599c7d22": {
          "model_module": "@jupyter-widgets/controls",
          "model_name": "HBoxModel",
          "state": {
            "_view_name": "HBoxView",
            "_dom_classes": [],
            "_model_name": "HBoxModel",
            "_view_module": "@jupyter-widgets/controls",
            "_model_module_version": "1.5.0",
            "_view_count": null,
            "_view_module_version": "1.5.0",
            "box_style": "",
            "layout": "IPY_MODEL_579828445de843f686cea4bcb3131e93",
            "_model_module": "@jupyter-widgets/controls",
            "children": [
              "IPY_MODEL_ab0c0381ba79431ea6733012c864d8a6",
              "IPY_MODEL_793427f0305844db9969cc7272627d78"
            ]
          }
        },
        "579828445de843f686cea4bcb3131e93": {
          "model_module": "@jupyter-widgets/base",
          "model_name": "LayoutModel",
          "state": {
            "_view_name": "LayoutView",
            "grid_template_rows": null,
            "right": null,
            "justify_content": null,
            "_view_module": "@jupyter-widgets/base",
            "overflow": null,
            "_model_module_version": "1.2.0",
            "_view_count": null,
            "flex_flow": null,
            "width": null,
            "min_width": null,
            "border": null,
            "align_items": null,
            "bottom": null,
            "_model_module": "@jupyter-widgets/base",
            "top": null,
            "grid_column": null,
            "overflow_y": null,
            "overflow_x": null,
            "grid_auto_flow": null,
            "grid_area": null,
            "grid_template_columns": null,
            "flex": null,
            "_model_name": "LayoutModel",
            "justify_items": null,
            "grid_row": null,
            "max_height": null,
            "align_content": null,
            "visibility": null,
            "align_self": null,
            "height": null,
            "min_height": null,
            "padding": null,
            "grid_auto_rows": null,
            "grid_gap": null,
            "max_width": null,
            "order": null,
            "_view_module_version": "1.2.0",
            "grid_template_areas": null,
            "object_position": null,
            "object_fit": null,
            "grid_auto_columns": null,
            "margin": null,
            "display": null,
            "left": null
          }
        },
        "ab0c0381ba79431ea6733012c864d8a6": {
          "model_module": "@jupyter-widgets/controls",
          "model_name": "FloatProgressModel",
          "state": {
            "_view_name": "ProgressView",
            "style": "IPY_MODEL_9d5a7a1bd89d4341b417513cfa7276a1",
            "_dom_classes": [],
            "description": "",
            "_model_name": "FloatProgressModel",
            "bar_style": "success",
            "max": 1,
            "_view_module": "@jupyter-widgets/controls",
            "_model_module_version": "1.5.0",
            "value": 1,
            "_view_count": null,
            "_view_module_version": "1.5.0",
            "orientation": "horizontal",
            "min": 0,
            "description_tooltip": null,
            "_model_module": "@jupyter-widgets/controls",
            "layout": "IPY_MODEL_8ea751d7ce0749c788eef2b0823d6741"
          }
        },
        "793427f0305844db9969cc7272627d78": {
          "model_module": "@jupyter-widgets/controls",
          "model_name": "HTMLModel",
          "state": {
            "_view_name": "HTMLView",
            "style": "IPY_MODEL_a9d56ffbc29f49ef8c05937b22df985c",
            "_dom_classes": [],
            "description": "",
            "_model_name": "HTMLModel",
            "placeholder": "​",
            "_view_module": "@jupyter-widgets/controls",
            "_model_module_version": "1.5.0",
            "value": " 32768/? [00:01&lt;00:00, 22308.95it/s]",
            "_view_count": null,
            "_view_module_version": "1.5.0",
            "description_tooltip": null,
            "_model_module": "@jupyter-widgets/controls",
            "layout": "IPY_MODEL_36dbb1c2e1b74407a6e515c7d478be53"
          }
        },
        "9d5a7a1bd89d4341b417513cfa7276a1": {
          "model_module": "@jupyter-widgets/controls",
          "model_name": "ProgressStyleModel",
          "state": {
            "_view_name": "StyleView",
            "_model_name": "ProgressStyleModel",
            "description_width": "initial",
            "_view_module": "@jupyter-widgets/base",
            "_model_module_version": "1.5.0",
            "_view_count": null,
            "_view_module_version": "1.2.0",
            "bar_color": null,
            "_model_module": "@jupyter-widgets/controls"
          }
        },
        "8ea751d7ce0749c788eef2b0823d6741": {
          "model_module": "@jupyter-widgets/base",
          "model_name": "LayoutModel",
          "state": {
            "_view_name": "LayoutView",
            "grid_template_rows": null,
            "right": null,
            "justify_content": null,
            "_view_module": "@jupyter-widgets/base",
            "overflow": null,
            "_model_module_version": "1.2.0",
            "_view_count": null,
            "flex_flow": null,
            "width": null,
            "min_width": null,
            "border": null,
            "align_items": null,
            "bottom": null,
            "_model_module": "@jupyter-widgets/base",
            "top": null,
            "grid_column": null,
            "overflow_y": null,
            "overflow_x": null,
            "grid_auto_flow": null,
            "grid_area": null,
            "grid_template_columns": null,
            "flex": null,
            "_model_name": "LayoutModel",
            "justify_items": null,
            "grid_row": null,
            "max_height": null,
            "align_content": null,
            "visibility": null,
            "align_self": null,
            "height": null,
            "min_height": null,
            "padding": null,
            "grid_auto_rows": null,
            "grid_gap": null,
            "max_width": null,
            "order": null,
            "_view_module_version": "1.2.0",
            "grid_template_areas": null,
            "object_position": null,
            "object_fit": null,
            "grid_auto_columns": null,
            "margin": null,
            "display": null,
            "left": null
          }
        },
        "a9d56ffbc29f49ef8c05937b22df985c": {
          "model_module": "@jupyter-widgets/controls",
          "model_name": "DescriptionStyleModel",
          "state": {
            "_view_name": "StyleView",
            "_model_name": "DescriptionStyleModel",
            "description_width": "",
            "_view_module": "@jupyter-widgets/base",
            "_model_module_version": "1.5.0",
            "_view_count": null,
            "_view_module_version": "1.2.0",
            "_model_module": "@jupyter-widgets/controls"
          }
        },
        "36dbb1c2e1b74407a6e515c7d478be53": {
          "model_module": "@jupyter-widgets/base",
          "model_name": "LayoutModel",
          "state": {
            "_view_name": "LayoutView",
            "grid_template_rows": null,
            "right": null,
            "justify_content": null,
            "_view_module": "@jupyter-widgets/base",
            "overflow": null,
            "_model_module_version": "1.2.0",
            "_view_count": null,
            "flex_flow": null,
            "width": null,
            "min_width": null,
            "border": null,
            "align_items": null,
            "bottom": null,
            "_model_module": "@jupyter-widgets/base",
            "top": null,
            "grid_column": null,
            "overflow_y": null,
            "overflow_x": null,
            "grid_auto_flow": null,
            "grid_area": null,
            "grid_template_columns": null,
            "flex": null,
            "_model_name": "LayoutModel",
            "justify_items": null,
            "grid_row": null,
            "max_height": null,
            "align_content": null,
            "visibility": null,
            "align_self": null,
            "height": null,
            "min_height": null,
            "padding": null,
            "grid_auto_rows": null,
            "grid_gap": null,
            "max_width": null,
            "order": null,
            "_view_module_version": "1.2.0",
            "grid_template_areas": null,
            "object_position": null,
            "object_fit": null,
            "grid_auto_columns": null,
            "margin": null,
            "display": null,
            "left": null
          }
        },
        "dc8f09ee1cd04dc2be5137daf5b02ef8": {
          "model_module": "@jupyter-widgets/controls",
          "model_name": "HBoxModel",
          "state": {
            "_view_name": "HBoxView",
            "_dom_classes": [],
            "_model_name": "HBoxModel",
            "_view_module": "@jupyter-widgets/controls",
            "_model_module_version": "1.5.0",
            "_view_count": null,
            "_view_module_version": "1.5.0",
            "box_style": "",
            "layout": "IPY_MODEL_65437c193ff84ee89114fa53d2048324",
            "_model_module": "@jupyter-widgets/controls",
            "children": [
              "IPY_MODEL_629ea3c65cc9480188ca01de98b1c16b",
              "IPY_MODEL_7ba39536b4b84de8b01e0716ae2df1c3"
            ]
          }
        },
        "65437c193ff84ee89114fa53d2048324": {
          "model_module": "@jupyter-widgets/base",
          "model_name": "LayoutModel",
          "state": {
            "_view_name": "LayoutView",
            "grid_template_rows": null,
            "right": null,
            "justify_content": null,
            "_view_module": "@jupyter-widgets/base",
            "overflow": null,
            "_model_module_version": "1.2.0",
            "_view_count": null,
            "flex_flow": null,
            "width": null,
            "min_width": null,
            "border": null,
            "align_items": null,
            "bottom": null,
            "_model_module": "@jupyter-widgets/base",
            "top": null,
            "grid_column": null,
            "overflow_y": null,
            "overflow_x": null,
            "grid_auto_flow": null,
            "grid_area": null,
            "grid_template_columns": null,
            "flex": null,
            "_model_name": "LayoutModel",
            "justify_items": null,
            "grid_row": null,
            "max_height": null,
            "align_content": null,
            "visibility": null,
            "align_self": null,
            "height": null,
            "min_height": null,
            "padding": null,
            "grid_auto_rows": null,
            "grid_gap": null,
            "max_width": null,
            "order": null,
            "_view_module_version": "1.2.0",
            "grid_template_areas": null,
            "object_position": null,
            "object_fit": null,
            "grid_auto_columns": null,
            "margin": null,
            "display": null,
            "left": null
          }
        },
        "629ea3c65cc9480188ca01de98b1c16b": {
          "model_module": "@jupyter-widgets/controls",
          "model_name": "FloatProgressModel",
          "state": {
            "_view_name": "ProgressView",
            "style": "IPY_MODEL_16bf2ac0eb954e878d522a33f650fffa",
            "_dom_classes": [],
            "description": "",
            "_model_name": "FloatProgressModel",
            "bar_style": "success",
            "max": 1,
            "_view_module": "@jupyter-widgets/controls",
            "_model_module_version": "1.5.0",
            "value": 1,
            "_view_count": null,
            "_view_module_version": "1.5.0",
            "orientation": "horizontal",
            "min": 0,
            "description_tooltip": null,
            "_model_module": "@jupyter-widgets/controls",
            "layout": "IPY_MODEL_8c9bcbe32ed74fe6afb57a3242205cf8"
          }
        },
        "7ba39536b4b84de8b01e0716ae2df1c3": {
          "model_module": "@jupyter-widgets/controls",
          "model_name": "HTMLModel",
          "state": {
            "_view_name": "HTMLView",
            "style": "IPY_MODEL_68b0fc06e89b46c09c212413982be928",
            "_dom_classes": [],
            "description": "",
            "_model_name": "HTMLModel",
            "placeholder": "​",
            "_view_module": "@jupyter-widgets/controls",
            "_model_module_version": "1.5.0",
            "value": " 1654784/? [00:01&lt;00:00, 1414265.38it/s]",
            "_view_count": null,
            "_view_module_version": "1.5.0",
            "description_tooltip": null,
            "_model_module": "@jupyter-widgets/controls",
            "layout": "IPY_MODEL_cc6d195c21fa4b57ad713f82c4a6cce9"
          }
        },
        "16bf2ac0eb954e878d522a33f650fffa": {
          "model_module": "@jupyter-widgets/controls",
          "model_name": "ProgressStyleModel",
          "state": {
            "_view_name": "StyleView",
            "_model_name": "ProgressStyleModel",
            "description_width": "initial",
            "_view_module": "@jupyter-widgets/base",
            "_model_module_version": "1.5.0",
            "_view_count": null,
            "_view_module_version": "1.2.0",
            "bar_color": null,
            "_model_module": "@jupyter-widgets/controls"
          }
        },
        "8c9bcbe32ed74fe6afb57a3242205cf8": {
          "model_module": "@jupyter-widgets/base",
          "model_name": "LayoutModel",
          "state": {
            "_view_name": "LayoutView",
            "grid_template_rows": null,
            "right": null,
            "justify_content": null,
            "_view_module": "@jupyter-widgets/base",
            "overflow": null,
            "_model_module_version": "1.2.0",
            "_view_count": null,
            "flex_flow": null,
            "width": null,
            "min_width": null,
            "border": null,
            "align_items": null,
            "bottom": null,
            "_model_module": "@jupyter-widgets/base",
            "top": null,
            "grid_column": null,
            "overflow_y": null,
            "overflow_x": null,
            "grid_auto_flow": null,
            "grid_area": null,
            "grid_template_columns": null,
            "flex": null,
            "_model_name": "LayoutModel",
            "justify_items": null,
            "grid_row": null,
            "max_height": null,
            "align_content": null,
            "visibility": null,
            "align_self": null,
            "height": null,
            "min_height": null,
            "padding": null,
            "grid_auto_rows": null,
            "grid_gap": null,
            "max_width": null,
            "order": null,
            "_view_module_version": "1.2.0",
            "grid_template_areas": null,
            "object_position": null,
            "object_fit": null,
            "grid_auto_columns": null,
            "margin": null,
            "display": null,
            "left": null
          }
        },
        "68b0fc06e89b46c09c212413982be928": {
          "model_module": "@jupyter-widgets/controls",
          "model_name": "DescriptionStyleModel",
          "state": {
            "_view_name": "StyleView",
            "_model_name": "DescriptionStyleModel",
            "description_width": "",
            "_view_module": "@jupyter-widgets/base",
            "_model_module_version": "1.5.0",
            "_view_count": null,
            "_view_module_version": "1.2.0",
            "_model_module": "@jupyter-widgets/controls"
          }
        },
        "cc6d195c21fa4b57ad713f82c4a6cce9": {
          "model_module": "@jupyter-widgets/base",
          "model_name": "LayoutModel",
          "state": {
            "_view_name": "LayoutView",
            "grid_template_rows": null,
            "right": null,
            "justify_content": null,
            "_view_module": "@jupyter-widgets/base",
            "overflow": null,
            "_model_module_version": "1.2.0",
            "_view_count": null,
            "flex_flow": null,
            "width": null,
            "min_width": null,
            "border": null,
            "align_items": null,
            "bottom": null,
            "_model_module": "@jupyter-widgets/base",
            "top": null,
            "grid_column": null,
            "overflow_y": null,
            "overflow_x": null,
            "grid_auto_flow": null,
            "grid_area": null,
            "grid_template_columns": null,
            "flex": null,
            "_model_name": "LayoutModel",
            "justify_items": null,
            "grid_row": null,
            "max_height": null,
            "align_content": null,
            "visibility": null,
            "align_self": null,
            "height": null,
            "min_height": null,
            "padding": null,
            "grid_auto_rows": null,
            "grid_gap": null,
            "max_width": null,
            "order": null,
            "_view_module_version": "1.2.0",
            "grid_template_areas": null,
            "object_position": null,
            "object_fit": null,
            "grid_auto_columns": null,
            "margin": null,
            "display": null,
            "left": null
          }
        },
        "37ec9b87a5aa4fc48333dff9a83b948f": {
          "model_module": "@jupyter-widgets/controls",
          "model_name": "HBoxModel",
          "state": {
            "_view_name": "HBoxView",
            "_dom_classes": [],
            "_model_name": "HBoxModel",
            "_view_module": "@jupyter-widgets/controls",
            "_model_module_version": "1.5.0",
            "_view_count": null,
            "_view_module_version": "1.5.0",
            "box_style": "",
            "layout": "IPY_MODEL_ca1e55bfecec4c17b867265f27e3480d",
            "_model_module": "@jupyter-widgets/controls",
            "children": [
              "IPY_MODEL_feb53206b5724e298a290d7d2f10f808",
              "IPY_MODEL_145aa96df629484ca3d4c8e8a07e4387"
            ]
          }
        },
        "ca1e55bfecec4c17b867265f27e3480d": {
          "model_module": "@jupyter-widgets/base",
          "model_name": "LayoutModel",
          "state": {
            "_view_name": "LayoutView",
            "grid_template_rows": null,
            "right": null,
            "justify_content": null,
            "_view_module": "@jupyter-widgets/base",
            "overflow": null,
            "_model_module_version": "1.2.0",
            "_view_count": null,
            "flex_flow": null,
            "width": null,
            "min_width": null,
            "border": null,
            "align_items": null,
            "bottom": null,
            "_model_module": "@jupyter-widgets/base",
            "top": null,
            "grid_column": null,
            "overflow_y": null,
            "overflow_x": null,
            "grid_auto_flow": null,
            "grid_area": null,
            "grid_template_columns": null,
            "flex": null,
            "_model_name": "LayoutModel",
            "justify_items": null,
            "grid_row": null,
            "max_height": null,
            "align_content": null,
            "visibility": null,
            "align_self": null,
            "height": null,
            "min_height": null,
            "padding": null,
            "grid_auto_rows": null,
            "grid_gap": null,
            "max_width": null,
            "order": null,
            "_view_module_version": "1.2.0",
            "grid_template_areas": null,
            "object_position": null,
            "object_fit": null,
            "grid_auto_columns": null,
            "margin": null,
            "display": null,
            "left": null
          }
        },
        "feb53206b5724e298a290d7d2f10f808": {
          "model_module": "@jupyter-widgets/controls",
          "model_name": "FloatProgressModel",
          "state": {
            "_view_name": "ProgressView",
            "style": "IPY_MODEL_7654e853f0a94ca39eaf981875cc865a",
            "_dom_classes": [],
            "description": "",
            "_model_name": "FloatProgressModel",
            "bar_style": "success",
            "max": 1,
            "_view_module": "@jupyter-widgets/controls",
            "_model_module_version": "1.5.0",
            "value": 1,
            "_view_count": null,
            "_view_module_version": "1.5.0",
            "orientation": "horizontal",
            "min": 0,
            "description_tooltip": null,
            "_model_module": "@jupyter-widgets/controls",
            "layout": "IPY_MODEL_494cd1c204a34ff48ffdb0ed10080ee3"
          }
        },
        "145aa96df629484ca3d4c8e8a07e4387": {
          "model_module": "@jupyter-widgets/controls",
          "model_name": "HTMLModel",
          "state": {
            "_view_name": "HTMLView",
            "style": "IPY_MODEL_55005e8495524f01bdb11edec24feb76",
            "_dom_classes": [],
            "description": "",
            "_model_name": "HTMLModel",
            "placeholder": "​",
            "_view_module": "@jupyter-widgets/controls",
            "_model_module_version": "1.5.0",
            "value": " 8192/? [00:00&lt;00:00, 19525.09it/s]",
            "_view_count": null,
            "_view_module_version": "1.5.0",
            "description_tooltip": null,
            "_model_module": "@jupyter-widgets/controls",
            "layout": "IPY_MODEL_23efb210ff9145b6bd15d16e018951f7"
          }
        },
        "7654e853f0a94ca39eaf981875cc865a": {
          "model_module": "@jupyter-widgets/controls",
          "model_name": "ProgressStyleModel",
          "state": {
            "_view_name": "StyleView",
            "_model_name": "ProgressStyleModel",
            "description_width": "initial",
            "_view_module": "@jupyter-widgets/base",
            "_model_module_version": "1.5.0",
            "_view_count": null,
            "_view_module_version": "1.2.0",
            "bar_color": null,
            "_model_module": "@jupyter-widgets/controls"
          }
        },
        "494cd1c204a34ff48ffdb0ed10080ee3": {
          "model_module": "@jupyter-widgets/base",
          "model_name": "LayoutModel",
          "state": {
            "_view_name": "LayoutView",
            "grid_template_rows": null,
            "right": null,
            "justify_content": null,
            "_view_module": "@jupyter-widgets/base",
            "overflow": null,
            "_model_module_version": "1.2.0",
            "_view_count": null,
            "flex_flow": null,
            "width": null,
            "min_width": null,
            "border": null,
            "align_items": null,
            "bottom": null,
            "_model_module": "@jupyter-widgets/base",
            "top": null,
            "grid_column": null,
            "overflow_y": null,
            "overflow_x": null,
            "grid_auto_flow": null,
            "grid_area": null,
            "grid_template_columns": null,
            "flex": null,
            "_model_name": "LayoutModel",
            "justify_items": null,
            "grid_row": null,
            "max_height": null,
            "align_content": null,
            "visibility": null,
            "align_self": null,
            "height": null,
            "min_height": null,
            "padding": null,
            "grid_auto_rows": null,
            "grid_gap": null,
            "max_width": null,
            "order": null,
            "_view_module_version": "1.2.0",
            "grid_template_areas": null,
            "object_position": null,
            "object_fit": null,
            "grid_auto_columns": null,
            "margin": null,
            "display": null,
            "left": null
          }
        },
        "55005e8495524f01bdb11edec24feb76": {
          "model_module": "@jupyter-widgets/controls",
          "model_name": "DescriptionStyleModel",
          "state": {
            "_view_name": "StyleView",
            "_model_name": "DescriptionStyleModel",
            "description_width": "",
            "_view_module": "@jupyter-widgets/base",
            "_model_module_version": "1.5.0",
            "_view_count": null,
            "_view_module_version": "1.2.0",
            "_model_module": "@jupyter-widgets/controls"
          }
        },
        "23efb210ff9145b6bd15d16e018951f7": {
          "model_module": "@jupyter-widgets/base",
          "model_name": "LayoutModel",
          "state": {
            "_view_name": "LayoutView",
            "grid_template_rows": null,
            "right": null,
            "justify_content": null,
            "_view_module": "@jupyter-widgets/base",
            "overflow": null,
            "_model_module_version": "1.2.0",
            "_view_count": null,
            "flex_flow": null,
            "width": null,
            "min_width": null,
            "border": null,
            "align_items": null,
            "bottom": null,
            "_model_module": "@jupyter-widgets/base",
            "top": null,
            "grid_column": null,
            "overflow_y": null,
            "overflow_x": null,
            "grid_auto_flow": null,
            "grid_area": null,
            "grid_template_columns": null,
            "flex": null,
            "_model_name": "LayoutModel",
            "justify_items": null,
            "grid_row": null,
            "max_height": null,
            "align_content": null,
            "visibility": null,
            "align_self": null,
            "height": null,
            "min_height": null,
            "padding": null,
            "grid_auto_rows": null,
            "grid_gap": null,
            "max_width": null,
            "order": null,
            "_view_module_version": "1.2.0",
            "grid_template_areas": null,
            "object_position": null,
            "object_fit": null,
            "grid_auto_columns": null,
            "margin": null,
            "display": null,
            "left": null
          }
        }
      }
    }
  },
  "cells": [
    {
      "cell_type": "markdown",
      "metadata": {
        "id": "kD3EtZA0EVZX"
      },
      "source": [
        "## Problem 4: Training MNIST and CIFAR with our Neural Net in C\n",
        "\n",
        "###MNIST\n",
        "####Training Accuracy:\n",
        "\n",
        "Before: ~92%\n",
        "\n",
        "After: ~93.5%\n",
        "\n",
        "####Test Accuracy: \n",
        "Before: ~92%\n",
        "\n",
        "After: ~93%\n",
        "\n",
        "Increasing the batch size, # of iterations, learning rate, momentum, and decay seemed to improve the accuracy slightly.\n",
        "\n",
        "Original:\n",
        "batch = 128, \n",
        "iters = 5000,\n",
        "rate = .01,\n",
        "momentum = .9,\n",
        "decay = .0\n",
        "\n",
        "Final:\n",
        "batch = 512,\n",
        "iters = 5400,\n",
        "rate = .014,\n",
        "momentum = .99,\n",
        "decay = .01\n",
        "\n",
        "###CIFAR\n",
        "####Training Accuracy:\n",
        "\n",
        "Before: ~38.4%\n",
        "\n",
        "After: ~43.5%\n",
        "\n",
        "####Test Accuracy: \n",
        "Before: ~36.2%\n",
        "\n",
        "After: ~40.2%\n",
        "\n",
        "Using the same parameters we found that worked better for MNIST, our training and testing accuracy actually went down (35% and 30% respectively).\n",
        "\n",
        "Increasing the batch size and momentum while decreasing the learning rate seemed to improve the accuracy by a good margin.\n",
        "\n",
        "Original:\n",
        "batch = 128, \n",
        "iters = 5000,\n",
        "rate = .01,\n",
        "momentum = .9,\n",
        "decay = .0\n",
        "\n",
        "Final:\n",
        "batch = 256,\n",
        "iters = 5000,\n",
        "rate = .002,\n",
        "momentum = .97,\n",
        "decay = .0\n",
        "\n",
        "###Overall:\n",
        "Our CIFAR accuracy was significantly lower than MNIST which was expected because CIFAR is a far more complex and \"interesting\" data set."
      ]
    },
    {
      "cell_type": "markdown",
      "metadata": {
        "id": "pKGF1ZLh8GXE"
      },
      "source": [
        "#Training a Neural Network in PyTorch#\n",
        "\n",
        "PyTorch is a powerful, widely-used machine learning library. It has all the latest neural network layers and functions and supports GPU computation.\n",
        "\n",
        "Most neural network research these days either happens in PyTorch or TensorFlow. Google Research develops TensorFlow while Facebook AI Research develops PyTorch. Functionally they are probably very similar, I just know a lot of people who use PyTorch and it seems like it might be somewhat easier for beginners to learn. It is important to have some experience in one of these two frameworks but if you understand the ideas and concepts you shouldn't have too much trouble moving between them.\n",
        "\n",
        "The `torch` library provides the basic functions we need when dealing with `tensors`. `tensors` are a generalization of matrices to arbirtrary numbers of dimensions (a matrix is a 2D tensor). Types of tensors:\n",
        "\n",
        "\n",
        "*   0 dimensional: Scalar\n",
        "*   1 dimensional: Array\n",
        "*   2 dimensional: Matrix\n",
        "*   3 dimensional: Number cubey thingy\n",
        "*   4 dimensional: ?????\n",
        "\n",
        "Anywho, let's start with our opening chant to invoke the power of PyTorch to aid us. The last line is a special call to the GPU gods to smile on our endeavor.\n"
      ]
    },
    {
      "cell_type": "code",
      "metadata": {
        "id": "ehrybK-XPJrr"
      },
      "source": [
        "import torch\n",
        "import torchvision\n",
        "import torchvision.transforms as transforms\n",
        "\n",
        "device = torch.device(\"cuda:0\" if torch.cuda.is_available() else \"cpu\")"
      ],
      "execution_count": 2,
      "outputs": []
    },
    {
      "cell_type": "markdown",
      "metadata": {
        "id": "T7rPSRhhBoQc"
      },
      "source": [
        "##Time For Some Data##\n",
        "\n",
        "PyTorch has some built tools for downloading and loading common datasets. We'll be playing around with MNIST in this example. It is a dataset of 28x28 grayscale handwritten digits 0-9. There are 50,000 images in the training set and 10,000 in the test set.\n",
        "\n"
      ]
    },
    {
      "cell_type": "code",
      "metadata": {
        "id": "iMUkulSBTNwo",
        "outputId": "ce1a0bfa-a8d7-46d1-c949-a2759370ae9e",
        "colab": {
          "base_uri": "https://localhost:8080/",
          "height": 366,
          "referenced_widgets": [
            "9f37632c58fc4f2fa4f6e220fff3c3e3",
            "d0ff29c696714710bf5498c75e95db0b",
            "5c2e2f9a645349fabd7f98f84dd16e11",
            "62a51a1dcef84de99c60c384d130453d",
            "b4ec250e6539433aa5e860ab411b6ec3",
            "adf5a24e843145cab5a4558221b56e21",
            "db934b1869ac4756923116bc251f541a",
            "2900a0f648954c69b1ef8b17ed532a0a",
            "82130324770c48f3be01c227599c7d22",
            "579828445de843f686cea4bcb3131e93",
            "ab0c0381ba79431ea6733012c864d8a6",
            "793427f0305844db9969cc7272627d78",
            "9d5a7a1bd89d4341b417513cfa7276a1",
            "8ea751d7ce0749c788eef2b0823d6741",
            "a9d56ffbc29f49ef8c05937b22df985c",
            "36dbb1c2e1b74407a6e515c7d478be53",
            "dc8f09ee1cd04dc2be5137daf5b02ef8",
            "65437c193ff84ee89114fa53d2048324",
            "629ea3c65cc9480188ca01de98b1c16b",
            "7ba39536b4b84de8b01e0716ae2df1c3",
            "16bf2ac0eb954e878d522a33f650fffa",
            "8c9bcbe32ed74fe6afb57a3242205cf8",
            "68b0fc06e89b46c09c212413982be928",
            "cc6d195c21fa4b57ad713f82c4a6cce9",
            "37ec9b87a5aa4fc48333dff9a83b948f",
            "ca1e55bfecec4c17b867265f27e3480d",
            "feb53206b5724e298a290d7d2f10f808",
            "145aa96df629484ca3d4c8e8a07e4387",
            "7654e853f0a94ca39eaf981875cc865a",
            "494cd1c204a34ff48ffdb0ed10080ee3",
            "55005e8495524f01bdb11edec24feb76",
            "23efb210ff9145b6bd15d16e018951f7"
          ]
        }
      },
      "source": [
        "def get_mnist_data():\n",
        "  trainset = torchvision.datasets.MNIST(root='./data', train=True, download=True,\n",
        "                                        transform=transforms.ToTensor())\n",
        "  trainloader = torch.utils.data.DataLoader(trainset, batch_size=32, shuffle=True,\n",
        "                                            num_workers=8)\n",
        "\n",
        "  testset = torchvision.datasets.MNIST(root='./data', train=False, download=True,\n",
        "                                      transform=transforms.ToTensor())\n",
        "  testloader = torch.utils.data.DataLoader(testset, batch_size=32, shuffle=False,\n",
        "                                          num_workers=8)\n",
        "  classes = range(10)\n",
        "  return {'train': trainloader, 'test': testloader, 'classes': classes}\n",
        "\n",
        "data = get_mnist_data()"
      ],
      "execution_count": 3,
      "outputs": [
        {
          "output_type": "stream",
          "text": [
            "Downloading http://yann.lecun.com/exdb/mnist/train-images-idx3-ubyte.gz to ./data/MNIST/raw/train-images-idx3-ubyte.gz\n"
          ],
          "name": "stdout"
        },
        {
          "output_type": "display_data",
          "data": {
            "application/vnd.jupyter.widget-view+json": {
              "model_id": "9f37632c58fc4f2fa4f6e220fff3c3e3",
              "version_minor": 0,
              "version_major": 2
            },
            "text/plain": [
              "HBox(children=(FloatProgress(value=1.0, bar_style='info', max=1.0), HTML(value='')))"
            ]
          },
          "metadata": {
            "tags": []
          }
        },
        {
          "output_type": "stream",
          "text": [
            "Extracting ./data/MNIST/raw/train-images-idx3-ubyte.gz to ./data/MNIST/raw\n",
            "Downloading http://yann.lecun.com/exdb/mnist/train-labels-idx1-ubyte.gz to ./data/MNIST/raw/train-labels-idx1-ubyte.gz\n"
          ],
          "name": "stdout"
        },
        {
          "output_type": "display_data",
          "data": {
            "application/vnd.jupyter.widget-view+json": {
              "model_id": "82130324770c48f3be01c227599c7d22",
              "version_minor": 0,
              "version_major": 2
            },
            "text/plain": [
              "HBox(children=(FloatProgress(value=1.0, bar_style='info', max=1.0), HTML(value='')))"
            ]
          },
          "metadata": {
            "tags": []
          }
        },
        {
          "output_type": "stream",
          "text": [
            "Extracting ./data/MNIST/raw/train-labels-idx1-ubyte.gz to ./data/MNIST/raw\n",
            "Downloading http://yann.lecun.com/exdb/mnist/t10k-images-idx3-ubyte.gz to ./data/MNIST/raw/t10k-images-idx3-ubyte.gz\n"
          ],
          "name": "stdout"
        },
        {
          "output_type": "display_data",
          "data": {
            "application/vnd.jupyter.widget-view+json": {
              "model_id": "dc8f09ee1cd04dc2be5137daf5b02ef8",
              "version_minor": 0,
              "version_major": 2
            },
            "text/plain": [
              "HBox(children=(FloatProgress(value=1.0, bar_style='info', max=1.0), HTML(value='')))"
            ]
          },
          "metadata": {
            "tags": []
          }
        },
        {
          "output_type": "stream",
          "text": [
            "Extracting ./data/MNIST/raw/t10k-images-idx3-ubyte.gz to ./data/MNIST/raw\n",
            "Downloading http://yann.lecun.com/exdb/mnist/t10k-labels-idx1-ubyte.gz to ./data/MNIST/raw/t10k-labels-idx1-ubyte.gz\n"
          ],
          "name": "stdout"
        },
        {
          "output_type": "display_data",
          "data": {
            "application/vnd.jupyter.widget-view+json": {
              "model_id": "37ec9b87a5aa4fc48333dff9a83b948f",
              "version_minor": 0,
              "version_major": 2
            },
            "text/plain": [
              "HBox(children=(FloatProgress(value=1.0, bar_style='info', max=1.0), HTML(value='')))"
            ]
          },
          "metadata": {
            "tags": []
          }
        },
        {
          "output_type": "stream",
          "text": [
            "Extracting ./data/MNIST/raw/t10k-labels-idx1-ubyte.gz to ./data/MNIST/raw\n",
            "Processing...\n",
            "Done!\n"
          ],
          "name": "stdout"
        },
        {
          "output_type": "stream",
          "text": [
            "/usr/local/lib/python3.6/dist-packages/torchvision/datasets/mnist.py:469: UserWarning: The given NumPy array is not writeable, and PyTorch does not support non-writeable tensors. This means you can write to the underlying (supposedly non-writeable) NumPy array using the tensor. You may want to copy the array to protect its data or make it writeable before converting it to a tensor. This type of warning will be suppressed for the rest of this program. (Triggered internally at  /pytorch/torch/csrc/utils/tensor_numpy.cpp:141.)\n",
            "  return torch.from_numpy(parsed.astype(m[2], copy=False)).view(*s)\n"
          ],
          "name": "stderr"
        }
      ]
    },
    {
      "cell_type": "markdown",
      "metadata": {
        "id": "xI_PZ2Pus5cF"
      },
      "source": [
        "###Understanding Our Data ###\n",
        "It's worthwhile to check out how our dataloader loads the images into tensors. We can print out the size of the loaded data in the `images` tensors.\n",
        "\n"
      ]
    },
    {
      "cell_type": "code",
      "metadata": {
        "id": "P1HO7vN-T5P4",
        "outputId": "3eefad5a-c27f-4094-ad86-b2f5c243e6ff",
        "colab": {
          "base_uri": "https://localhost:8080/",
          "height": 84
        }
      },
      "source": [
        "# get some random training images\n",
        "dataiter = iter(data['train'])\n",
        "images, labels = dataiter.next()\n",
        "print(images.size())"
      ],
      "execution_count": 4,
      "outputs": [
        {
          "output_type": "stream",
          "text": [
            "\n",
            "\n",
            "\n",
            "torch.Size([32, 1, 28, 28])\n"
          ],
          "name": "stdout"
        }
      ]
    },
    {
      "cell_type": "markdown",
      "metadata": {
        "id": "C2h61JjW7rh1"
      },
      "source": [
        "Our `images` tensor is 4-dimensional, (32 x 1 x 28 x 28)\n",
        "\n",
        "PyTorch stores image data in (N x C x H x W) format. Thus the size of this tensor implies we have a mini-batch of 32 images, each have a single channel (grayscale), and each image is 28 x 28, so that makes sense!\n",
        "\n",
        "We can use matplotlib to see what our data looks like:"
      ]
    },
    {
      "cell_type": "code",
      "metadata": {
        "id": "E42h6plq63Ar",
        "outputId": "ee8a0316-d0d2-42d3-ac72-516ba6f833d9",
        "colab": {
          "base_uri": "https://localhost:8080/",
          "height": 254
        }
      },
      "source": [
        "import matplotlib.pyplot as plt\n",
        "import numpy as np\n",
        "\n",
        "def imshow(img):\n",
        "    npimg = img.numpy()\n",
        "    plt.imshow(np.transpose(npimg, (1, 2, 0)))\n",
        "    plt.show()\n",
        "\n",
        "# show images\n",
        "imshow(torchvision.utils.make_grid(images))\n",
        "# print labels\n",
        "print(' '.join('%9s' % data['classes'][labels[j]] for j in range(4)))\n"
      ],
      "execution_count": 5,
      "outputs": [
        {
          "output_type": "stream",
          "text": [
            "\n"
          ],
          "name": "stdout"
        },
        {
          "output_type": "display_data",
          "data": {
            "image/png": "[encoded data removed]",
            "text/plain": [
              "<Figure size 432x288 with 1 Axes>"
            ]
          },
          "metadata": {
            "tags": [],
            "needs_background": "light"
          }
        },
        {
          "output_type": "stream",
          "text": [
            "        5         3         4         8\n"
          ],
          "name": "stdout"
        }
      ]
    },
    {
      "cell_type": "markdown",
      "metadata": {
        "id": "0z2Zs4W74Rcv"
      },
      "source": [
        "##A Simple Network##\n",
        "\n",
        "First we'll build a very basic neural network with a single hidden layer of neurons. This means one fully connected layer of weights connects the input to the hidden neurons and one fully connected layer connects the hidden neurons to the output. We'll use the RELU activation function on the hidden neuron values as our nonlinearity.\n",
        "\n",
        "These fully connected (or `nn.Linear`) layers expect a 2D input tensor where that is N x I where N is the number of data points in a mini batch and I is the number of inputs. However, our data is formatted in (N x C x H x W) right now so we need to tell PyTorch to rearrange it using `torch.flatten`.\n",
        "\n",
        "After being `flatten`ed our data goes from (32 x 1 x 28 x 28) to being (32 x 784)"
      ]
    },
    {
      "cell_type": "code",
      "metadata": {
        "id": "RfglkbNyVLQY"
      },
      "source": [
        "import torch.nn as nn\n",
        "import torch.nn.functional as F\n",
        "\n",
        "\n",
        "class SimpleNet(nn.Module):\n",
        "    def __init__(self, inputs=28*28, hidden=512, outputs=10):\n",
        "        super(SimpleNet, self).__init__()\n",
        "        self.fc1 = nn.Linear(inputs, hidden)\n",
        "        self.fc2 = nn.Linear(hidden, outputs)\n",
        "\n",
        "    def forward(self, x):\n",
        "        x = torch.flatten(x, 1)\n",
        "        x = self.fc1(x)\n",
        "        x = F.relu(x)\n",
        "        x = self.fc2(x)\n",
        "        return x"
      ],
      "execution_count": 6,
      "outputs": []
    },
    {
      "cell_type": "markdown",
      "metadata": {
        "id": "cBv5uxRHrdH_"
      },
      "source": [
        "###The Training Function ###\n",
        "\n",
        "Now for training our network. Our `train` function takes as input the `net` to train and the `dataloader` for the training data. It also takes some optional parameters to control training.\n",
        "\n",
        "For our network we'll be using PyTorch's built in `nn.CrossEntropyLoss`. This will apply a softmax to our network's output, calculate the log-probability assigned to each class, then try to minimize the negative log likelihood of our data (AKA maximize the likelihood)\n",
        "\n",
        "For our optimizer we are using stochastic gradient descent with learning rate, momentum, and decay parameters."
      ]
    },
    {
      "cell_type": "code",
      "metadata": {
        "id": "XrzP3OzSWLnV"
      },
      "source": [
        "import torch.optim as optim\n",
        "\n",
        "def train(net, dataloader, epochs=1, lr=0.01, momentum=0.9, decay=0.0, verbose=1):\n",
        "  net.to(device)\n",
        "  losses = []\n",
        "  criterion = nn.CrossEntropyLoss()\n",
        "  optimizer = optim.SGD(net.parameters(), lr=lr, momentum=momentum, weight_decay=decay)\n",
        "  for epoch in range(epochs):\n",
        "    sum_loss = 0.0\n",
        "    for i, batch in enumerate(dataloader, 0):\n",
        "        # get the inputs; data is a list of [inputs, labels]\n",
        "        inputs, labels = batch[0].to(device), batch[1].to(device)\n",
        "\n",
        "        # zero the parameter gradients\n",
        "        optimizer.zero_grad()\n",
        "\n",
        "        # forward + backward + optimize \n",
        "        outputs = net(inputs)\n",
        "        loss = criterion(outputs, labels)\n",
        "        loss.backward()\n",
        "        optimizer.step()\n",
        "\n",
        "        # print statistics\n",
        "        losses.append(loss.item())\n",
        "        sum_loss += loss.item()\n",
        "        if i % 100 == 99:    # print every 100 mini-batches\n",
        "            if verbose:\n",
        "              print('[%d, %5d] loss: %.3f' %\n",
        "                  (epoch + 1, i + 1, sum_loss / 100))\n",
        "            sum_loss = 0.0\n",
        "  return losses"
      ],
      "execution_count": 7,
      "outputs": []
    },
    {
      "cell_type": "markdown",
      "metadata": {
        "id": "7PQs_ofgwmCt"
      },
      "source": [
        "###Training The Network###\n",
        "\n",
        "We'll instantiate a new network and train it on our training data.\n",
        "\n",
        "Our training function prints out some debug information about the epoch, batch number, and current loss values. It also returns a list of all the losses on our mini-batches so we can plot them all once training has finished."
      ]
    },
    {
      "cell_type": "code",
      "metadata": {
        "id": "ZnniOt6IsJjo",
        "outputId": "8a755a0e-13d6-4b68-e44f-7e38bc1f676b",
        "colab": {
          "base_uri": "https://localhost:8080/",
          "height": 584
        }
      },
      "source": [
        "net = SimpleNet()\n",
        "\n",
        "losses = train(net, data['train'])\n",
        "plt.plot(losses)"
      ],
      "execution_count": 8,
      "outputs": [
        {
          "output_type": "stream",
          "text": [
            "[1,   100] loss: 1.342\n",
            "[1,   200] loss: 0.505\n",
            "[1,   300] loss: 0.420\n",
            "[1,   400] loss: 0.375\n",
            "[1,   500] loss: 0.321\n",
            "[1,   600] loss: 0.326\n",
            "[1,   700] loss: 0.313\n",
            "[1,   800] loss: 0.269\n",
            "[1,   900] loss: 0.243\n",
            "[1,  1000] loss: 0.265\n",
            "[1,  1100] loss: 0.250\n",
            "[1,  1200] loss: 0.247\n",
            "[1,  1300] loss: 0.260\n",
            "[1,  1400] loss: 0.208\n",
            "[1,  1500] loss: 0.233\n",
            "[1,  1600] loss: 0.247\n",
            "[1,  1700] loss: 0.218\n",
            "[1,  1800] loss: 0.209\n"
          ],
          "name": "stdout"
        },
        {
          "output_type": "execute_result",
          "data": {
            "text/plain": [
              "[<matplotlib.lines.Line2D at 0x7f28297f5e48>]"
            ]
          },
          "metadata": {
            "tags": []
          },
          "execution_count": 8
        },
        {
          "output_type": "display_data",
          "data": {
            "image/png": "[encoded data removed]",
            "text/plain": [
              "<Figure size 432x288 with 1 Axes>"
            ]
          },
          "metadata": {
            "tags": [],
            "needs_background": "light"
          }
        }
      ]
    },
    {
      "cell_type": "markdown",
      "metadata": {
        "id": "AbQR1GAlzqQt"
      },
      "source": [
        "##Testing The Network##\n",
        "\n",
        "We trained our network! The loss went down! That's good, right? But how good is our network, exactly?\n",
        "\n",
        "Well, we can try running our network on a few of our test images and see what happens:"
      ]
    },
    {
      "cell_type": "code",
      "metadata": {
        "id": "jRnA3phakd4j",
        "outputId": "8962c122-408a-49a7-971d-02644294e654",
        "colab": {
          "base_uri": "https://localhost:8080/",
          "height": 172
        }
      },
      "source": [
        "dataiter = iter(data['test'])\n",
        "images, labels = dataiter.next()\n",
        "images = images[:4]\n",
        "labels = labels[:4]\n",
        "\n",
        "# print images\n",
        "imshow(torchvision.utils.make_grid(images))\n",
        "print('GroundTruth: ', ' '.join('%5s' % data['classes'][labels[j]] for j in range(4)))\n",
        "outputs = net(images.to(device))\n",
        "_, predicted = torch.max(outputs, 1)\n",
        "\n",
        "print('Predicted: ', ' '.join('%5s' % data['classes'][predicted[j]]\n",
        "                              for j in range(4)))"
      ],
      "execution_count": 9,
      "outputs": [
        {
          "output_type": "display_data",
          "data": {
            "image/png": "[encoded data removed]",
            "text/plain": [
              "<Figure size 432x288 with 1 Axes>"
            ]
          },
          "metadata": {
            "tags": [],
            "needs_background": "light"
          }
        },
        {
          "output_type": "stream",
          "text": [
            "GroundTruth:      7     2     1     0\n",
            "Predicted:      7     2     1     0\n"
          ],
          "name": "stdout"
        }
      ]
    },
    {
      "cell_type": "markdown",
      "metadata": {
        "id": "UvR8TTs-z8Cc"
      },
      "source": [
        "Pretty good so far. But we also want to be able to test the network on all of our data. Here's a function that can do just that, computing the accuracy on a full set of data:"
      ]
    },
    {
      "cell_type": "code",
      "metadata": {
        "id": "7TNFVUA3mpJr"
      },
      "source": [
        "def accuracy(net, dataloader):\n",
        "  correct = 0\n",
        "  total = 0\n",
        "  with torch.no_grad():\n",
        "      for batch in dataloader:\n",
        "          images, labels = batch[0].to(device), batch[1].to(device)\n",
        "          outputs = net(images)\n",
        "          _, predicted = torch.max(outputs.data, 1)\n",
        "          total += labels.size(0)\n",
        "          correct += (predicted == labels).sum().item()\n",
        "  return correct/total"
      ],
      "execution_count": 10,
      "outputs": []
    },
    {
      "cell_type": "markdown",
      "metadata": {
        "id": "_usQ2gGR01j0"
      },
      "source": [
        "Now we can give it a try:"
      ]
    },
    {
      "cell_type": "code",
      "metadata": {
        "id": "MEl-HH83020a",
        "outputId": "75ab6804-10d0-4b32-8beb-752a82e1f9a3",
        "colab": {
          "base_uri": "https://localhost:8080/",
          "height": 34
        }
      },
      "source": [
        "print(\"Current accuracy: %f\" % accuracy(net, data['train']))"
      ],
      "execution_count": 11,
      "outputs": [
        {
          "output_type": "stream",
          "text": [
            "Current accuracy: 0.950317\n"
          ],
          "name": "stdout"
        }
      ]
    },
    {
      "cell_type": "code",
      "metadata": {
        "id": "VL26AIkIDPAi",
        "outputId": "fe8788ff-0292-41e9-a505-58b33ebb6842",
        "colab": {
          "base_uri": "https://localhost:8080/",
          "height": 34
        }
      },
      "source": [
        "print(\"Current accuracy: %f\" % accuracy(net, data['test']))"
      ],
      "execution_count": 16,
      "outputs": [
        {
          "output_type": "stream",
          "text": [
            "Current accuracy: 0.950000\n"
          ],
          "name": "stdout"
        }
      ]
    },
    {
      "cell_type": "markdown",
      "metadata": {
        "id": "3gIXV-es1T7C"
      },
      "source": [
        "##Experiments##\n",
        "\n",
        "Now it's time to poke around a little bit with our models. First I just want this utility function to do window smoothing of data for us. As you may have noticed, we are doing *stochastic* gradient descent, so our losses for each mini-batch can vary quite dramatically. If we smooth them out a little bit they will be easier to look at when we plot them."
      ]
    },
    {
      "cell_type": "code",
      "metadata": {
        "id": "Zq0AprMN30cS"
      },
      "source": [
        "def smooth(x, size):\n",
        "  return np.convolve(x, np.ones(size)/size, mode='same')"
      ],
      "execution_count": 12,
      "outputs": []
    },
    {
      "cell_type": "markdown",
      "metadata": {
        "id": "TdHueTHS7ClZ"
      },
      "source": [
        "###Learning Rate###\n",
        "\n",
        "Let's experiment around with the learning rate of our model. Changing the learning rate should affect how fast our model converges and how accurate it is. We can see the effect when we plot out the loss function over time for models with different learning rates:"
      ]
    },
    {
      "cell_type": "code",
      "metadata": {
        "id": "lC3gB5j61j2Z",
        "outputId": "38b0016a-2f59-4aa7-a6ea-99f9e009879e",
        "colab": {
          "base_uri": "https://localhost:8080/",
          "height": 282
        }
      },
      "source": [
        "net_high = SimpleNet()\n",
        "losses_high = train(net_high, data['train'], lr=.1, verbose=0)\n",
        "acc_high = accuracy(net_high, data['test'])\n",
        "plt.plot(smooth(losses_high,20), 'r-')\n",
        "\n",
        "\n",
        "net_mid = SimpleNet()\n",
        "losses_mid = train(net_mid, data['train'], lr=.01, verbose=0)\n",
        "acc_mid = accuracy(net_mid, data['test'])\n",
        "plt.plot(smooth(losses_mid,20), 'b-')\n",
        "\n",
        "\n",
        "net_low = SimpleNet()\n",
        "losses_low = train(net_low, data['train'], lr=.001, verbose=0)\n",
        "acc_low = accuracy(net_low, data['test'])\n",
        "plt.plot(smooth(losses_low,20), 'g-')\n",
        "\n",
        "print(acc_high, acc_mid, acc_low)"
      ],
      "execution_count": 13,
      "outputs": [
        {
          "output_type": "stream",
          "text": [
            "0.9563 0.9514 0.8941\n"
          ],
          "name": "stdout"
        },
        {
          "output_type": "display_data",
          "data": {
            "image/png": "[encoded data removed]",
            "text/plain": [
              "<Figure size 432x288 with 1 Axes>"
            ]
          },
          "metadata": {
            "tags": [],
            "needs_background": "light"
          }
        }
      ]
    },
    {
      "cell_type": "markdown",
      "metadata": {
        "id": "-aM_X31X7gxf"
      },
      "source": [
        "###Momentum###\n",
        "\n",
        "We are using the default value for momentum of `0.9`. Fix your value for the learning rate and try varying the values for momentum.\n",
        "\n",
        "####**Question 1: What affect does changing the value for momentum have on your model's convergence and final accuracy?**####\n",
        "\n",
        "Given that momentum is inherenlty present to accelerate the speed of training, we can see below that adding momentum seems to allow for a quicker convergence. Additionally, the accuracy of the model in our experiment appears to be slighlty higher when momentum is present."
      ]
    },
    {
      "cell_type": "code",
      "metadata": {
        "id": "X5rsSpoP78KM",
        "outputId": "ae5a67a3-3504-4c24-a67b-fb3e6bbad63f",
        "colab": {
          "base_uri": "https://localhost:8080/",
          "height": 1000
        }
      },
      "source": [
        "\n",
        "print(\"momentum= 0\")\n",
        "net0 = SimpleNet()\n",
        "losses = train(net0, data['train'], lr=.1,momentum=0)\n",
        "acc0 = accuracy(net0, data['test'])\n",
        "plt.plot(smooth(losses,20), 'r-')\n",
        "\n",
        "print(\"momentum= 0.1\")\n",
        "net1 = SimpleNet()\n",
        "losses = train(net1, data['train'],lr=.1, momentum=0.1)\n",
        "acc1 = accuracy(net1, data['test'])\n",
        "plt.plot(smooth(losses,20), 'r-')\n",
        "\n",
        "print(\"momentum= 0.2\")\n",
        "net2 = SimpleNet()\n",
        "losses = train(net2, data['train'], lr=.1,momentum=0.2)\n",
        "acc2 = accuracy(net2, data['test'])\n",
        "plt.plot(smooth(losses,20), 'g-')\n",
        "\n",
        "print(\"momentum= 0.3\")\n",
        "net3 = SimpleNet()\n",
        "losses = train(net3, data['train'],lr=.1, momentum=0.3)\n",
        "acc3 = accuracy(net3, data['test'])\n",
        "plt.plot(smooth(losses,20), 'b-')\n",
        "\n",
        "print(\"momentum= 0.4\")\n",
        "net4 = SimpleNet()\n",
        "losses = train(net4, data['train'], lr=.1, momentum=0.4)\n",
        "acc4 = accuracy(net4, data['test'])\n",
        "plt.plot(smooth(losses,20), 'chocolate')\n",
        "\n",
        "print(\"momentum= 0.5\")\n",
        "net5 = SimpleNet()\n",
        "losses = train(net5, data['train'], lr=.1, momentum=0.5)\n",
        "acc5 = accuracy(net5, data['test'])\n",
        "plt.plot(smooth(losses,20), 'khaki')\n",
        "\n",
        "print(\"momentum= 0.6\")\n",
        "net6 = SimpleNet()\n",
        "losses = train(net6, data['train'], lr=.1, momentum=0.6)\n",
        "acc6 = accuracy(net6, data['test'])\n",
        "plt.plot(smooth(losses,20), 'indigo')\n",
        "\n",
        "print(\"momentum= 0.7\")\n",
        "net7 = SimpleNet()\n",
        "losses = train(net7, data['train'], lr=.1, momentum=0.7)\n",
        "acc7 = accuracy(net7, data['test'])\n",
        "plt.plot(smooth(losses,20), 'lime')\n",
        "\n",
        "print(\"momentum= 0.8\")\n",
        "net8 = SimpleNet()\n",
        "losses = train(net8, data['train'], lr=.1, momentum=0.8)\n",
        "acc8 = accuracy(net8, data['test'])\n",
        "plt.plot(smooth(losses,20), 'c-')\n",
        "\n",
        "print(\"momentum= 0.9\")\n",
        "net9 = SimpleNet()\n",
        "losses = train(net9, data['train'], lr=.1, momentum=0.9)\n",
        "acc9 = accuracy(net9, data['test'])\n",
        "plt.plot(smooth(losses,20), 'm-')\n",
        "\n",
        "print(acc0, acc1, acc2, acc3, acc4, acc5, acc6, acc7, acc8, acc9)"
      ],
      "execution_count": 14,
      "outputs": [
        {
          "output_type": "stream",
          "text": [
            "momentum= 0\n",
            "[1,   100] loss: 1.209\n",
            "[1,   200] loss: 0.506\n",
            "[1,   300] loss: 0.410\n",
            "[1,   400] loss: 0.378\n",
            "[1,   500] loss: 0.337\n",
            "[1,   600] loss: 0.315\n",
            "[1,   700] loss: 0.310\n",
            "[1,   800] loss: 0.285\n",
            "[1,   900] loss: 0.278\n",
            "[1,  1000] loss: 0.250\n",
            "[1,  1100] loss: 0.251\n",
            "[1,  1200] loss: 0.247\n",
            "[1,  1300] loss: 0.221\n",
            "[1,  1400] loss: 0.213\n",
            "[1,  1500] loss: 0.220\n",
            "[1,  1600] loss: 0.211\n",
            "[1,  1700] loss: 0.203\n",
            "[1,  1800] loss: 0.196\n",
            "momentum= 0.1\n",
            "[1,   100] loss: 1.127\n",
            "[1,   200] loss: 0.505\n",
            "[1,   300] loss: 0.392\n",
            "[1,   400] loss: 0.382\n",
            "[1,   500] loss: 0.324\n",
            "[1,   600] loss: 0.307\n",
            "[1,   700] loss: 0.285\n",
            "[1,   800] loss: 0.276\n",
            "[1,   900] loss: 0.258\n",
            "[1,  1000] loss: 0.259\n",
            "[1,  1100] loss: 0.240\n",
            "[1,  1200] loss: 0.235\n",
            "[1,  1300] loss: 0.225\n",
            "[1,  1400] loss: 0.217\n",
            "[1,  1500] loss: 0.199\n",
            "[1,  1600] loss: 0.214\n",
            "[1,  1700] loss: 0.193\n",
            "[1,  1800] loss: 0.172\n",
            "momentum= 0.2\n",
            "[1,   100] loss: 1.065\n",
            "[1,   200] loss: 0.460\n",
            "[1,   300] loss: 0.386\n",
            "[1,   400] loss: 0.358\n",
            "[1,   500] loss: 0.309\n",
            "[1,   600] loss: 0.329\n",
            "[1,   700] loss: 0.311\n",
            "[1,   800] loss: 0.258\n",
            "[1,   900] loss: 0.247\n",
            "[1,  1000] loss: 0.240\n",
            "[1,  1100] loss: 0.222\n",
            "[1,  1200] loss: 0.223\n",
            "[1,  1300] loss: 0.222\n",
            "[1,  1400] loss: 0.192\n",
            "[1,  1500] loss: 0.184\n",
            "[1,  1600] loss: 0.191\n",
            "[1,  1700] loss: 0.182\n",
            "[1,  1800] loss: 0.160\n",
            "momentum= 0.3\n",
            "[1,   100] loss: 1.041\n",
            "[1,   200] loss: 0.455\n",
            "[1,   300] loss: 0.398\n",
            "[1,   400] loss: 0.344\n",
            "[1,   500] loss: 0.313\n",
            "[1,   600] loss: 0.292\n",
            "[1,   700] loss: 0.275\n",
            "[1,   800] loss: 0.260\n",
            "[1,   900] loss: 0.251\n",
            "[1,  1000] loss: 0.199\n",
            "[1,  1100] loss: 0.230\n",
            "[1,  1200] loss: 0.202\n",
            "[1,  1300] loss: 0.215\n",
            "[1,  1400] loss: 0.194\n",
            "[1,  1500] loss: 0.179\n",
            "[1,  1600] loss: 0.178\n",
            "[1,  1700] loss: 0.167\n",
            "[1,  1800] loss: 0.172\n",
            "momentum= 0.4\n",
            "[1,   100] loss: 0.976\n",
            "[1,   200] loss: 0.407\n",
            "[1,   300] loss: 0.361\n",
            "[1,   400] loss: 0.349\n",
            "[1,   500] loss: 0.320\n",
            "[1,   600] loss: 0.277\n",
            "[1,   700] loss: 0.263\n",
            "[1,   800] loss: 0.254\n",
            "[1,   900] loss: 0.218\n",
            "[1,  1000] loss: 0.222\n",
            "[1,  1100] loss: 0.212\n",
            "[1,  1200] loss: 0.189\n",
            "[1,  1300] loss: 0.169\n",
            "[1,  1400] loss: 0.191\n",
            "[1,  1500] loss: 0.178\n",
            "[1,  1600] loss: 0.158\n",
            "[1,  1700] loss: 0.169\n",
            "[1,  1800] loss: 0.143\n",
            "momentum= 0.5\n",
            "[1,   100] loss: 0.930\n",
            "[1,   200] loss: 0.417\n",
            "[1,   300] loss: 0.318\n",
            "[1,   400] loss: 0.281\n",
            "[1,   500] loss: 0.322\n",
            "[1,   600] loss: 0.247\n",
            "[1,   700] loss: 0.255\n",
            "[1,   800] loss: 0.244\n",
            "[1,   900] loss: 0.212\n",
            "[1,  1000] loss: 0.215\n",
            "[1,  1100] loss: 0.197\n",
            "[1,  1200] loss: 0.171\n",
            "[1,  1300] loss: 0.177\n",
            "[1,  1400] loss: 0.165\n",
            "[1,  1500] loss: 0.156\n",
            "[1,  1600] loss: 0.131\n",
            "[1,  1700] loss: 0.149\n",
            "[1,  1800] loss: 0.136\n",
            "momentum= 0.6\n",
            "[1,   100] loss: 0.825\n",
            "[1,   200] loss: 0.413\n",
            "[1,   300] loss: 0.356\n",
            "[1,   400] loss: 0.297\n",
            "[1,   500] loss: 0.263\n",
            "[1,   600] loss: 0.237\n",
            "[1,   700] loss: 0.219\n",
            "[1,   800] loss: 0.231\n",
            "[1,   900] loss: 0.188\n",
            "[1,  1000] loss: 0.175\n",
            "[1,  1100] loss: 0.176\n",
            "[1,  1200] loss: 0.150\n",
            "[1,  1300] loss: 0.145\n",
            "[1,  1400] loss: 0.154\n",
            "[1,  1500] loss: 0.137\n",
            "[1,  1600] loss: 0.136\n",
            "[1,  1700] loss: 0.147\n",
            "[1,  1800] loss: 0.145\n",
            "momentum= 0.7\n",
            "[1,   100] loss: 0.782\n",
            "[1,   200] loss: 0.414\n",
            "[1,   300] loss: 0.316\n",
            "[1,   400] loss: 0.246\n",
            "[1,   500] loss: 0.229\n",
            "[1,   600] loss: 0.217\n",
            "[1,   700] loss: 0.209\n",
            "[1,   800] loss: 0.183\n",
            "[1,   900] loss: 0.164\n",
            "[1,  1000] loss: 0.179\n",
            "[1,  1100] loss: 0.149\n",
            "[1,  1200] loss: 0.180\n",
            "[1,  1300] loss: 0.141\n",
            "[1,  1400] loss: 0.141\n",
            "[1,  1500] loss: 0.152\n",
            "[1,  1600] loss: 0.129\n",
            "[1,  1700] loss: 0.119\n",
            "[1,  1800] loss: 0.119\n",
            "momentum= 0.8\n",
            "[1,   100] loss: 0.749\n",
            "[1,   200] loss: 0.361\n",
            "[1,   300] loss: 0.295\n",
            "[1,   400] loss: 0.262\n",
            "[1,   500] loss: 0.226\n",
            "[1,   600] loss: 0.192\n",
            "[1,   700] loss: 0.189\n",
            "[1,   800] loss: 0.171\n",
            "[1,   900] loss: 0.144\n",
            "[1,  1000] loss: 0.152\n",
            "[1,  1100] loss: 0.131\n",
            "[1,  1200] loss: 0.128\n",
            "[1,  1300] loss: 0.144\n",
            "[1,  1400] loss: 0.162\n",
            "[1,  1500] loss: 0.145\n",
            "[1,  1600] loss: 0.120\n",
            "[1,  1700] loss: 0.131\n",
            "[1,  1800] loss: 0.121\n",
            "momentum= 0.9\n",
            "[1,   100] loss: 0.733\n",
            "[1,   200] loss: 0.359\n",
            "[1,   300] loss: 0.306\n",
            "[1,   400] loss: 0.271\n",
            "[1,   500] loss: 0.259\n",
            "[1,   600] loss: 0.215\n",
            "[1,   700] loss: 0.216\n",
            "[1,   800] loss: 0.195\n",
            "[1,   900] loss: 0.219\n",
            "[1,  1000] loss: 0.193\n",
            "[1,  1100] loss: 0.205\n",
            "[1,  1200] loss: 0.177\n",
            "[1,  1300] loss: 0.166\n",
            "[1,  1400] loss: 0.192\n",
            "[1,  1500] loss: 0.168\n",
            "[1,  1600] loss: 0.152\n",
            "[1,  1700] loss: 0.176\n",
            "[1,  1800] loss: 0.173\n",
            "0.944 0.9516 0.9538 0.9595 0.9589 0.9629 0.9616 0.9655 0.9675 0.9531\n"
          ],
          "name": "stdout"
        },
        {
          "output_type": "display_data",
          "data": {
            "image/png": "[encoded data removed]",
            "text/plain": [
              "<Figure size 432x288 with 1 Axes>"
            ]
          },
          "metadata": {
            "tags": [],
            "needs_background": "light"
          }
        }
      ]
    },
    {
      "cell_type": "markdown",
      "metadata": {
        "id": "weTQgPBE8GC-"
      },
      "source": [
        "###Weight Decay###\n",
        "\n",
        "Right now we aren't using any weight decay with our model. However, it can be useful as a method of regularization if we are worried about overfitting.\n",
        "\n",
        "Take your best performing model parameters from above for learning rate and momentum. Fix these parameters as you answer the following questions:\n",
        "\n",
        "####**Question 2: Is our current model overfit or underfit to our training data? How can you tell?**####\n",
        "\n",
        "Because the train accuracy and testing accuracy are very similar, it doesn't seem like there is overfitting. The model is also not underfitting because our testing accuracy is high (95%). \n",
        "\n",
        "####**Question 3: Try out some different values for weight decay. What effect do they have on model convergence? What about final accuracy? Does this match with what you would have expected? Why or why not?**####\n",
        "\n",
        "There didn't seem to be an impact on model convergence other than the fact that the network converged to different loss levels. However, witha ccuracy, there seems to be a negative impact from the prescence of a higher weight decay. \n",
        "\n",
        "This matches what I would have expected, as this reduces the value and the representational space of the model weights. "
      ]
    },
    {
      "cell_type": "code",
      "metadata": {
        "id": "SHMEimWeNVNO"
      },
      "source": [
        ""
      ],
      "execution_count": null,
      "outputs": []
    },
    {
      "cell_type": "code",
      "metadata": {
        "id": "Jywu7uy0aLa8",
        "outputId": "08fd1d3f-2e8f-417c-f3bd-8a5a3ac86c66",
        "colab": {
          "base_uri": "https://localhost:8080/",
          "height": 366
        }
      },
      "source": [
        "print(\"decay= 0\")\n",
        "net0 = SimpleNet()\n",
        "losses = train(net0, data['train'], lr=.1, verbose=0, momentum=0.9, decay=0)\n",
        "acc0 = accuracy(net0, data['test'])\n",
        "plt.plot(smooth(losses,20), 'r-')\n",
        "\n",
        "print(\"decay= 0.1\")\n",
        "net1 = SimpleNet()\n",
        "losses = train(net1, data['train'], lr=.1, verbose=0, momentum=0.9, decay=0.1)\n",
        "acc1 = accuracy(net1, data['test'])\n",
        "plt.plot(smooth(losses,20), 'r-')\n",
        "\n",
        "print(\"decay= 0.01\")\n",
        "net1 = SimpleNet()\n",
        "losses = train(net1, data['train'], lr=.1, verbose=0, momentum=0.9, decay=0.01)\n",
        "acc1 = accuracy(net1, data['test'])\n",
        "plt.plot(smooth(losses,20), 'r-')\n",
        "\n",
        "print(\"decay= 0.001\")\n",
        "net2 = SimpleNet()\n",
        "losses = train(net2, data['train'], lr=.1, verbose=0, momentum=0.9, decay=0.001)\n",
        "acc2 = accuracy(net2, data['test'])\n",
        "plt.plot(smooth(losses,20), 'g-')\n",
        "\n",
        "print(\"decay= 0.0001\")\n",
        "net3 = SimpleNet()\n",
        "losses = train(net3, data['train'], lr=.1, verbose=0, momentum=0.9, decay=0.0001)\n",
        "acc3 = accuracy(net3, data['test'])\n",
        "plt.plot(smooth(losses,20), 'b-')\n",
        "\n",
        "print(acc0, acc1, acc2, acc3)"
      ],
      "execution_count": 20,
      "outputs": [
        {
          "output_type": "stream",
          "text": [
            "decay= 0\n",
            "decay= 0.1\n",
            "decay= 0.01\n",
            "decay= 0.001\n",
            "decay= 0.0001\n",
            "0.9589 0.8925 0.9534 0.9568\n"
          ],
          "name": "stdout"
        },
        {
          "output_type": "display_data",
          "data": {
            "image/png": "[encoded data removed]",
            "text/plain": [
              "<Figure size 432x288 with 1 Axes>"
            ]
          },
          "metadata": {
            "tags": [],
            "needs_background": "light"
          }
        }
      ]
    },
    {
      "cell_type": "markdown",
      "metadata": {
        "id": "mKmBp4tMaYro"
      },
      "source": [
        "###A Bigger Model###\n",
        "\n",
        "Before we used a very simple model but now it's time to try adding some complexity. Create a network that takes as input the 28x28 image, 10 outputs, and any number of layers as long as it has fewer than 2,000,000 connections. Our simple network before had 784\\*512 + 512\\*10 = 406,528 connections.\n",
        "\n",
        "Use only fully connected (`nn.Linear`) layers (we'll get to other layer types soon). However, play around with different [activation functions](https://pytorch.org/docs/stable/nn.functional.html#non-linear-activation-functions), [losses](https://pytorch.org/docs/stable/nn.html#loss-functions), and hyperparameter settings. You can also try different training regimes. For example, you could try lowering the learning rate during training by calling our training method twice like this:\n",
        "\n",
        "    train(net, data['train'], epochs=5, lr=.1)\n",
        "    train(net, data['train'], epochs=3, lr=.01)\n",
        "    train(net, data['train'], epochs=2, lr=.001)\n",
        "\n",
        "Maybe it works better? Why did I choose those particular numbers? Who knows! It's deep learning, no one really knows what will work you have to just try things and see.\n",
        "\n",
        "Experiment with different network architectures and settings to get the most accurate model.\n",
        "\n",
        "####**Question 4: Describe your final model architecture. How did you come up with the number of layers and number of neurons at each layer?**####\n",
        "\n",
        "The final model architcture began with a 28*28 to 512 linear layer, a singluar 512 dim hidden layer, and a final classification linear layer with 10 outputs, all with relu activation function following each linear layer. I ran a hyperparameter search, which is below, to find the optimal values for the number of hidden layers and nuerons. \n",
        "\n",
        "####**Question 5: What hyperparameters did you experiment with? What values were good for them? Do you think your model was over or under fitting the data?**####\n",
        "\n",
        "I experimented with model hyperparamters of number of hidden layers, hidden layer dimensions. The final values that resulted in the best model were 512 dim and 1 hidden layer. The model seemed to be slightly over fitting the data, due to a model complexity and indicated by a higher training accuracy. Doesn't seem to be underfitting because testing accuracy is very high. "
      ]
    },
    {
      "cell_type": "code",
      "metadata": {
        "id": "J0yynxFmd0ss"
      },
      "source": [
        "class ExperiNet(nn.Module):\n",
        "    def __init__(self, act_fn, hidden_dim, num_hidden):\n",
        "        super(ExperiNet, self).__init__()\n",
        "        self.act_fn = act_fn\n",
        "        layers = []\n",
        "        layers.append(nn.Linear(28*28, hidden_dim))\n",
        "        layers.append(act_fn)\n",
        "        for _ in range(num_hidden):\n",
        "          layers.append(nn.Linear(hidden_dim, hidden_dim))\n",
        "          layers.append(act_fn)\n",
        "        layers.append(nn.Linear(hidden_dim, 10))\n",
        "        self.layers = nn.Sequential(*layers)\n",
        "\n",
        "    def forward(self, x):\n",
        "        x = torch.flatten(x, 1)\n",
        "        return self.layers(x)"
      ],
      "execution_count": 55,
      "outputs": []
    },
    {
      "cell_type": "code",
      "metadata": {
        "id": "4BBv4aHDXKCS"
      },
      "source": [
        "import torch.optim as optim\n",
        "\n",
        "def train_2(net, dataloader, loss_fn, epochs=1, lr=0.01, momentum=0.9, decay=0.0, verbose=0):\n",
        "  net.to(device)\n",
        "  losses = []\n",
        "  criterion = loss_fn\n",
        "  optimizer = optim.SGD(net.parameters(), lr=lr, momentum=momentum, weight_decay=decay)\n",
        "  for epoch in range(epochs):\n",
        "    sum_loss = 0.0\n",
        "    for i, batch in enumerate(dataloader, 0):\n",
        "        # get the inputs; data is a list of [inputs, labels]\n",
        "        inputs, labels = batch[0].to(device), batch[1].to(device)\n",
        "\n",
        "        # zero the parameter gradients\n",
        "        optimizer.zero_grad()\n",
        "\n",
        "        # forward + backward + optimize \n",
        "        outputs = net(inputs)\n",
        "        loss = criterion(outputs, labels)\n",
        "        loss.backward()\n",
        "        optimizer.step()\n",
        "\n",
        "        # print statistics\n",
        "        losses.append(loss.item())\n",
        "        sum_loss += loss.item()\n",
        "    print(sum_loss / len(dataloader))\n",
        "    sum_loss = 0.0\n",
        "  return losses"
      ],
      "execution_count": 56,
      "outputs": []
    },
    {
      "cell_type": "code",
      "metadata": {
        "id": "ue521ZnRG4B1",
        "outputId": "00758a50-7c4f-44ad-9b81-403362036aff",
        "colab": {
          "base_uri": "https://localhost:8080/",
          "height": 450
        }
      },
      "source": [
        "losses = train_2(ExperiNet(nn.ReLU(), 512, 1), data[\"train\"], nn.CrossEntropyLoss(), epochs=10, lr=0.01)\n",
        "plt.plot(losses)"
      ],
      "execution_count": 57,
      "outputs": [
        {
          "output_type": "stream",
          "text": [
            "0.34788211352080106\n",
            "0.1158316691485544\n",
            "0.07495551655062785\n",
            "0.055037937422282995\n",
            "0.04011305262803411\n",
            "0.03057545804734497\n",
            "0.02425630937635433\n",
            "0.01718418775489554\n",
            "0.012468662586108743\n",
            "0.009759790111530067\n"
          ],
          "name": "stdout"
        },
        {
          "output_type": "execute_result",
          "data": {
            "text/plain": [
              "[<matplotlib.lines.Line2D at 0x7f282a41df28>]"
            ]
          },
          "metadata": {
            "tags": []
          },
          "execution_count": 57
        },
        {
          "output_type": "display_data",
          "data": {
            "image/png": "[encoded data removed]",
            "text/plain": [
              "<Figure size 432x288 with 1 Axes>"
            ]
          },
          "metadata": {
            "tags": [],
            "needs_background": "light"
          }
        }
      ]
    },
    {
      "cell_type": "code",
      "metadata": {
        "id": "R7HUDAe2LZr9",
        "outputId": "b5d5477c-ef04-4252-99f0-a3bdd90c961a",
        "colab": {
          "base_uri": "https://localhost:8080/",
          "height": 450
        }
      },
      "source": [
        "losses = train_2(ExperiNet(nn.ReLU(), 512, 2), data[\"train\"], nn.CrossEntropyLoss(), epochs=10, lr=0.01)\n",
        "plt.plot(losses)"
      ],
      "execution_count": 58,
      "outputs": [
        {
          "output_type": "stream",
          "text": [
            "0.403955804806451\n",
            "0.11107009281404316\n",
            "0.07275079088180016\n",
            "0.05393150522314633\n",
            "0.03852500886898488\n",
            "0.030230536067439244\n",
            "0.022073563926439964\n",
            "0.018852350245616982\n",
            "0.014288357597705909\n",
            "0.009879304202133548\n"
          ],
          "name": "stdout"
        },
        {
          "output_type": "execute_result",
          "data": {
            "text/plain": [
              "[<matplotlib.lines.Line2D at 0x7f282c14f908>]"
            ]
          },
          "metadata": {
            "tags": []
          },
          "execution_count": 58
        },
        {
          "output_type": "display_data",
          "data": {
            "image/png": "[encoded data removed]",
            "text/plain": [
              "<Figure size 432x288 with 1 Axes>"
            ]
          },
          "metadata": {
            "tags": [],
            "needs_background": "light"
          }
        }
      ]
    },
    {
      "cell_type": "code",
      "metadata": {
        "id": "ozyU0GuXLfB-",
        "outputId": "1ea4360b-7390-4381-a4c3-c7a783a02ad7",
        "colab": {
          "base_uri": "https://localhost:8080/",
          "height": 450
        }
      },
      "source": [
        "losses = train_2(ExperiNet(nn.ReLU(), 512, 3), data[\"train\"], nn.CrossEntropyLoss(), epochs=10, lr=0.01)\n",
        "plt.plot(losses)"
      ],
      "execution_count": 59,
      "outputs": [
        {
          "output_type": "stream",
          "text": [
            "0.5138746611657242\n",
            "0.11364731796855727\n",
            "0.0755350940424328\n",
            "0.054572009845233214\n",
            "0.04172751253694296\n",
            "0.033710087060229856\n",
            "0.024914186923993595\n",
            "0.022759366022812415\n",
            "0.017298078463225588\n",
            "0.014755429810770632\n"
          ],
          "name": "stdout"
        },
        {
          "output_type": "execute_result",
          "data": {
            "text/plain": [
              "[<matplotlib.lines.Line2D at 0x7f282bef0e10>]"
            ]
          },
          "metadata": {
            "tags": []
          },
          "execution_count": 59
        },
        {
          "output_type": "display_data",
          "data": {
            "image/png": "[encoded data removed]",
            "text/plain": [
              "<Figure size 432x288 with 1 Axes>"
            ]
          },
          "metadata": {
            "tags": [],
            "needs_background": "light"
          }
        }
      ]
    },
    {
      "cell_type": "code",
      "metadata": {
        "id": "E_Ajs0KxLr-7",
        "outputId": "afce3287-dea2-4305-eae3-3b785e03f9b3",
        "colab": {
          "base_uri": "https://localhost:8080/",
          "height": 450
        }
      },
      "source": [
        "losses = train_2(ExperiNet(nn.ReLU(), 128, 1), data[\"train\"], nn.CrossEntropyLoss(), epochs=10, lr=0.01)\n",
        "plt.plot(losses)"
      ],
      "execution_count": 60,
      "outputs": [
        {
          "output_type": "stream",
          "text": [
            "0.38573208673894405\n",
            "0.13668814405575394\n",
            "0.09478882681963345\n",
            "0.07113055894126495\n",
            "0.05588336169725905\n",
            "0.045629983089243376\n",
            "0.03627874379916272\n",
            "0.03152424190410335\n",
            "0.025107054233977882\n",
            "0.020426612744418284\n"
          ],
          "name": "stdout"
        },
        {
          "output_type": "execute_result",
          "data": {
            "text/plain": [
              "[<matplotlib.lines.Line2D at 0x7f282bf1af28>]"
            ]
          },
          "metadata": {
            "tags": []
          },
          "execution_count": 60
        },
        {
          "output_type": "display_data",
          "data": {
            "image/png": "[encoded data removed]",
            "text/plain": [
              "<Figure size 432x288 with 1 Axes>"
            ]
          },
          "metadata": {
            "tags": [],
            "needs_background": "light"
          }
        }
      ]
    },
    {
      "cell_type": "code",
      "metadata": {
        "id": "2grJ2pGkLxB6",
        "outputId": "88b6c25d-8be7-443e-887b-841e1a2aacd0",
        "colab": {
          "base_uri": "https://localhost:8080/",
          "height": 450
        }
      },
      "source": [
        "losses = train_2(ExperiNet(nn.ReLU(), 256, 1), data[\"train\"], nn.CrossEntropyLoss(), epochs=10, lr=0.01)\n",
        "plt.plot(losses)\n"
      ],
      "execution_count": 61,
      "outputs": [
        {
          "output_type": "stream",
          "text": [
            "0.36605318306088447\n",
            "0.12426105217039585\n",
            "0.08357292176646491\n",
            "0.06117783441555997\n",
            "0.04772776050864098\n",
            "0.036788006177466984\n",
            "0.029288090931150753\n",
            "0.022797212010839334\n",
            "0.017086479699161525\n",
            "0.013090709753254971\n"
          ],
          "name": "stdout"
        },
        {
          "output_type": "execute_result",
          "data": {
            "text/plain": [
              "[<matplotlib.lines.Line2D at 0x7f282c0a3358>]"
            ]
          },
          "metadata": {
            "tags": []
          },
          "execution_count": 61
        },
        {
          "output_type": "display_data",
          "data": {
            "image/png": "[encoded data removed]",
            "text/plain": [
              "<Figure size 432x288 with 1 Axes>"
            ]
          },
          "metadata": {
            "tags": [],
            "needs_background": "light"
          }
        }
      ]
    },
    {
      "cell_type": "code",
      "metadata": {
        "id": "vm15aFPEOWNi",
        "outputId": "37ca0180-9322-4277-ba8b-7f775063acf1",
        "colab": {
          "base_uri": "https://localhost:8080/",
          "height": 202
        }
      },
      "source": [
        "# final\n",
        "model = ExperiNet(nn.ReLU(), 512, 1)\n",
        "losses = train_2(model, data[\"train\"], nn.CrossEntropyLoss(), epochs=10, lr=0.01)\n",
        "print(losses[-1])"
      ],
      "execution_count": 63,
      "outputs": [
        {
          "output_type": "stream",
          "text": [
            "0.35421279295235875\n",
            "0.11789389225840569\n",
            "0.07633474619618306\n",
            "0.054597148168832065\n",
            "0.041368433749784404\n",
            "0.03047323326827415\n",
            "0.023799940603001352\n",
            "0.01837426359428015\n",
            "0.012681996787325867\n",
            "0.008505758064519614\n",
            "0.005577510222792625\n"
          ],
          "name": "stdout"
        }
      ]
    },
    {
      "cell_type": "code",
      "metadata": {
        "id": "dFMDaEEXOuxz",
        "outputId": "942fbcf6-c574-4836-c33e-05a63d5a3021",
        "colab": {
          "base_uri": "https://localhost:8080/",
          "height": 34
        }
      },
      "source": [
        "print(\"Current accuracy: %f\" % accuracy(model, data['train']))"
      ],
      "execution_count": 64,
      "outputs": [
        {
          "output_type": "stream",
          "text": [
            "Current accuracy: 0.999317\n"
          ],
          "name": "stdout"
        }
      ]
    },
    {
      "cell_type": "code",
      "metadata": {
        "id": "Cnv5LkI7Oux2",
        "outputId": "84b2897a-17b8-4f16-83c9-6cc60fa68e8c",
        "colab": {
          "base_uri": "https://localhost:8080/",
          "height": 34
        }
      },
      "source": [
        "print(\"Current accuracy: %f\" % accuracy(model, data['test']))"
      ],
      "execution_count": 65,
      "outputs": [
        {
          "output_type": "stream",
          "text": [
            "Current accuracy: 0.982600\n"
          ],
          "name": "stdout"
        }
      ]
    },
    {
      "cell_type": "markdown",
      "metadata": {
        "id": "ba1kcHtIf-Gg"
      },
      "source": [
        "##Download and submit!##\n",
        "\n",
        "Download your iPythorn notebook from Colab to your `hw0` directory. Then follow the instructions to collate and submit your homework."
      ]
    }
  ]
}